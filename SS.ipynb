{
 "cells": [
  {
   "cell_type": "markdown",
   "metadata": {},
   "source": [
    "# Assignment 3 - Deep Learning"
   ]
  },
  {
   "cell_type": "markdown",
   "metadata": {},
   "source": [
    "### First importing the libraries and data"
   ]
  },
  {
   "cell_type": "code",
   "execution_count": 1,
   "metadata": {
    "colab": {
     "base_uri": "https://localhost:8080/",
     "height": 34
    },
    "colab_type": "code",
    "id": "zyd53sVdmpCX",
    "outputId": "37154157-4ca1-4028-a6a7-23752e234538"
   },
   "outputs": [
    {
     "name": "stderr",
     "output_type": "stream",
     "text": [
      "Using TensorFlow backend.\n"
     ]
    }
   ],
   "source": [
    "import pandas as pd\n",
    "import numpy as np\n",
    "import matplotlib.pyplot as plt\n",
    "import seaborn as sns\n",
    "\n",
    "import keras\n",
    "from keras.utils.np_utils import to_categorical\n",
    "from keras.models import Sequential\n",
    "from keras.layers import Dense, Dropout, Flatten, Conv2D, MaxPool2D\n",
    "from keras.layers.normalization import BatchNormalization\n",
    "from keras.optimizers import RMSprop, adam\n",
    "from keras.preprocessing.image import ImageDataGenerator\n",
    "from keras.callbacks import ReduceLROnPlateau, EarlyStopping\n",
    "from keras.utils import plot_model"
   ]
  },
  {
   "cell_type": "markdown",
   "metadata": {},
   "source": [
    "#### This assignment was performed on Google Collab, hence we first need to mount Google Drive, then navigate to the same folder to import the data"
   ]
  },
  {
   "cell_type": "code",
   "execution_count": 2,
   "metadata": {
    "colab": {
     "base_uri": "https://localhost:8080/",
     "height": 34
    },
    "colab_type": "code",
    "id": "73z-l64Ywomq",
    "outputId": "610df022-dd8c-4699-d63d-b63cb115db36"
   },
   "outputs": [
    {
     "name": "stdout",
     "output_type": "stream",
     "text": [
      "Drive already mounted at /content/drive; to attempt to forcibly remount, call drive.mount(\"/content/drive\", force_remount=True).\n"
     ]
    }
   ],
   "source": [
    "from google.colab import drive\n",
    "drive.mount('/content/drive')"
   ]
  },
  {
   "cell_type": "code",
   "execution_count": 3,
   "metadata": {
    "colab": {
     "base_uri": "https://localhost:8080/",
     "height": 34
    },
    "colab_type": "code",
    "id": "sIRbNVb8l2t-",
    "outputId": "abe6917a-c3d6-40d0-ac4d-e818499d4fc0"
   },
   "outputs": [
    {
     "name": "stdout",
     "output_type": "stream",
     "text": [
      "/content/drive/My Drive/Colab Notebooks/data\n"
     ]
    }
   ],
   "source": [
    "cd drive/My Drive/Colab Notebooks/data"
   ]
  },
  {
   "cell_type": "code",
   "execution_count": 0,
   "metadata": {
    "colab": {},
    "colab_type": "code",
    "id": "doud5bLRxsMK"
   },
   "outputs": [],
   "source": [
    "dfX = pd.read_pickle('trainX.pickle')\n",
    "dfy = pd.read_pickle('trainY.pickle')"
   ]
  },
  {
   "cell_type": "markdown",
   "metadata": {},
   "source": [
    "#### After importing the image, I displayed the first image of the dataset using plt.imshow()"
   ]
  },
  {
   "cell_type": "code",
   "execution_count": 25,
   "metadata": {
    "colab": {
     "base_uri": "https://localhost:8080/",
     "height": 286
    },
    "colab_type": "code",
    "id": "HX3oHJ4xzPBG",
    "outputId": "e8fb1f25-1e0c-43e0-fc9b-96e9c6e14264"
   },
   "outputs": [
    {
     "data": {
      "text/plain": [
       "<matplotlib.image.AxesImage at 0x7faecdbb0400>"
      ]
     },
     "execution_count": 25,
     "metadata": {
      "tags": []
     },
     "output_type": "execute_result"
    },
    {
     "data": {
      "image/png": "[encoded data removed]",
      "text/plain": [
       "<Figure size 432x288 with 1 Axes>"
      ]
     },
     "metadata": {
      "tags": []
     },
     "output_type": "display_data"
    }
   ],
   "source": [
    "plt.imshow(dfX[0])"
   ]
  },
  {
   "cell_type": "markdown",
   "metadata": {},
   "source": [
    "#### Looking at the format of the output data"
   ]
  },
  {
   "cell_type": "code",
   "execution_count": 28,
   "metadata": {
    "colab": {
     "base_uri": "https://localhost:8080/",
     "height": 34
    },
    "colab_type": "code",
    "id": "QVQTfhJI78Bn",
    "outputId": "05d018cd-0d48-4a2c-85b5-9213bf626a4f"
   },
   "outputs": [
    {
     "data": {
      "text/plain": [
       "array([9, 0, 0, ..., 3, 0, 5], dtype=uint8)"
      ]
     },
     "execution_count": 28,
     "metadata": {
      "tags": []
     },
     "output_type": "execute_result"
    }
   ],
   "source": [
    "dfy"
   ]
  },
  {
   "cell_type": "markdown",
   "metadata": {},
   "source": [
    "#### Creating the test and validation data, and reshaping it for input into the convolutional network"
   ]
  },
  {
   "cell_type": "code",
   "execution_count": 0,
   "metadata": {
    "colab": {},
    "colab_type": "code",
    "id": "g1TN5dtgmuGa"
   },
   "outputs": [],
   "source": [
    "from sklearn.model_selection import train_test_split\n",
    "x_train, x_test, y_train, y_test = train_test_split(dfX, dfy, test_size=0.2)"
   ]
  },
  {
   "cell_type": "code",
   "execution_count": 0,
   "metadata": {
    "colab": {},
    "colab_type": "code",
    "id": "d9pO5rapqUV6"
   },
   "outputs": [],
   "source": [
    "img_cols, img_rows = 28, 28\n",
    "x_train = x_train.reshape(x_train.shape[0], 28, 28, 1)\n",
    "x_test = x_test.reshape(x_test.shape[0], 28, 28, 1)\n",
    "input_shape = (img_rows, img_cols, 1)"
   ]
  },
  {
   "cell_type": "markdown",
   "metadata": {},
   "source": [
    "### Setting up the convolutional network"
   ]
  },
  {
   "cell_type": "code",
   "execution_count": 0,
   "metadata": {
    "colab": {},
    "colab_type": "code",
    "id": "3eldlMGnsZvP"
   },
   "outputs": [],
   "source": [
    "batch_size = 128\n",
    "num_classes = 10\n",
    "epochs = 30"
   ]
  },
  {
   "cell_type": "code",
   "execution_count": 9,
   "metadata": {
    "colab": {
     "base_uri": "https://localhost:8080/",
     "height": 68
    },
    "colab_type": "code",
    "id": "RuzzoQVQvB_W",
    "outputId": "6f6b095d-5c02-4549-d622-233c4d21ab9d"
   },
   "outputs": [
    {
     "name": "stdout",
     "output_type": "stream",
     "text": [
      "x_train shape: (48000, 28, 28, 1)\n",
      "48000 train samples\n",
      "12000 test samples\n"
     ]
    }
   ],
   "source": [
    "x_train = x_train.astype('float32')\n",
    "x_test = x_test.astype('float32')\n",
    "x_train /= 255\n",
    "x_test /= 255\n",
    "print('x_train shape:', x_train.shape)\n",
    "print(x_train.shape[0], 'train samples')\n",
    "print(x_test.shape[0], 'test samples')"
   ]
  },
  {
   "cell_type": "code",
   "execution_count": 0,
   "metadata": {
    "colab": {},
    "colab_type": "code",
    "id": "QgLMy8CHvH9k"
   },
   "outputs": [],
   "source": [
    "y_train = keras.utils.to_categorical(y_train, num_classes)\n",
    "y_test = keras.utils.to_categorical(y_test, num_classes)"
   ]
  },
  {
   "cell_type": "markdown",
   "metadata": {},
   "source": [
    "### Description of the Layers\n",
    "\n",
    "I used the Keras Sequential API, where you have just to add one layer at a time, starting from the input.\n",
    "\n",
    "The first is the convolutional (Conv2D) layer. It is like a set of learnable filters. I choosed to set 32 filters for the two firsts conv2D layers and 64 filters for the two last ones. Each filter transforms a part of the image (defined by the kernel size) using the kernel filter. The kernel filter matrix is applied on the whole image. Filters can be seen as a transformation of the image.\n",
    "\n",
    "The second important layer in CNN is the pooling (MaxPool2D) layer. This layer simply acts as a downsampling filter. It looks at the 2 neighboring pixels and picks the maximal value. These are used to reduce computational cost, and to some extent also reduce overfitting. We have to choose the pooling size (i.e the area size pooled each time) more the pooling dimension is high, more the downsampling is important. Combining convolutional and pooling layers, CNN are able to combine local features and learn more global features of the image.\n",
    "\n",
    "Dropout is a regularization method, where a proportion of nodes in the layer are randomly ignored (setting their wieghts to zero) for each training sample. This drops randomly a propotion of the network and forces the network to learn features in a distributed way. This technique also improves generalization and reduces the overfitting.\n",
    "\n",
    "'relu' is the rectifier (activation function max(0,x). The rectifier activation function is used to add non linearity to the network.\n",
    "\n",
    "The Flatten layer is use to convert the final feature maps into a one single 1D vector. This flattening step is needed so that you can make use of fully connected layers after some convolutional/maxpool layers. It combines all the found local features of the previous convolutional layers.4"
   ]
  },
  {
   "cell_type": "code",
   "execution_count": 11,
   "metadata": {
    "colab": {
     "base_uri": "https://localhost:8080/",
     "height": 377
    },
    "colab_type": "code",
    "id": "tl2dX1_Zvdpj",
    "outputId": "e558af35-97ae-48b3-b691-6d8e519871ac"
   },
   "outputs": [
    {
     "name": "stderr",
     "output_type": "stream",
     "text": [
      "WARNING: Logging before flag parsing goes to stderr.\n",
      "W0623 03:29:49.108489 140389988878208 deprecation_wrapper.py:119] From /usr/local/lib/python3.6/dist-packages/keras/backend/tensorflow_backend.py:74: The name tf.get_default_graph is deprecated. Please use tf.compat.v1.get_default_graph instead.\n",
      "\n",
      "W0623 03:29:49.123001 140389988878208 deprecation_wrapper.py:119] From /usr/local/lib/python3.6/dist-packages/keras/backend/tensorflow_backend.py:517: The name tf.placeholder is deprecated. Please use tf.compat.v1.placeholder instead.\n",
      "\n",
      "W0623 03:29:49.126138 140389988878208 deprecation_wrapper.py:119] From /usr/local/lib/python3.6/dist-packages/keras/backend/tensorflow_backend.py:4138: The name tf.random_uniform is deprecated. Please use tf.random.uniform instead.\n",
      "\n",
      "W0623 03:29:49.152483 140389988878208 deprecation_wrapper.py:119] From /usr/local/lib/python3.6/dist-packages/keras/backend/tensorflow_backend.py:174: The name tf.get_default_session is deprecated. Please use tf.compat.v1.get_default_session instead.\n",
      "\n",
      "W0623 03:29:49.153495 140389988878208 deprecation_wrapper.py:119] From /usr/local/lib/python3.6/dist-packages/keras/backend/tensorflow_backend.py:181: The name tf.ConfigProto is deprecated. Please use tf.compat.v1.ConfigProto instead.\n",
      "\n",
      "W0623 03:29:49.183042 140389988878208 deprecation_wrapper.py:119] From /usr/local/lib/python3.6/dist-packages/keras/backend/tensorflow_backend.py:1834: The name tf.nn.fused_batch_norm is deprecated. Please use tf.compat.v1.nn.fused_batch_norm instead.\n",
      "\n",
      "W0623 03:29:49.326441 140389988878208 deprecation_wrapper.py:119] From /usr/local/lib/python3.6/dist-packages/keras/backend/tensorflow_backend.py:3976: The name tf.nn.max_pool is deprecated. Please use tf.nn.max_pool2d instead.\n",
      "\n",
      "W0623 03:29:49.335314 140389988878208 deprecation.py:506] From /usr/local/lib/python3.6/dist-packages/keras/backend/tensorflow_backend.py:3445: calling dropout (from tensorflow.python.ops.nn_ops) with keep_prob is deprecated and will be removed in a future version.\n",
      "Instructions for updating:\n",
      "Please use `rate` instead of `keep_prob`. Rate should be set to `rate = 1 - keep_prob`.\n",
      "W0623 03:29:49.655411 140389988878208 deprecation_wrapper.py:119] From /usr/local/lib/python3.6/dist-packages/keras/optimizers.py:790: The name tf.train.Optimizer is deprecated. Please use tf.compat.v1.train.Optimizer instead.\n",
      "\n"
     ]
    }
   ],
   "source": [
    "model = Sequential()\n",
    "\n",
    "model.add(Conv2D(filters = 32, kernel_size = (5,5),padding = 'Same', activation ='relu', \n",
    "                 input_shape = (28,28,1)))\n",
    "model.add(BatchNormalization())\n",
    "model.add(Conv2D(filters = 32, kernel_size = (5,5),padding = 'Same', activation ='relu'))\n",
    "model.add(BatchNormalization())\n",
    "model.add(MaxPool2D(pool_size=(2,2)))\n",
    "model.add(Dropout(0.20))\n",
    "\n",
    "model.add(Conv2D(filters = 64, kernel_size = (3,3), activation ='relu'))\n",
    "model.add(BatchNormalization())\n",
    "model.add(Conv2D(filters = 64, kernel_size = (3,3), activation ='relu'))\n",
    "model.add(BatchNormalization())\n",
    "model.add(MaxPool2D(pool_size=(2,2), name = \"MAXPOOL_2\"))\n",
    "model.add(Dropout(0.20))\n",
    "\n",
    "model.add(Flatten())\n",
    "model.add(Dense(128, activation = \"relu\"))\n",
    "model.add(BatchNormalization())\n",
    "model.add(Dropout(0.20))\n",
    "model.add(Dense(10, activation = \"softmax\"))\n",
    "\n",
    "optimizer = adam(lr = 0.001, epsilon = 1e-08, decay = 0.0)\n",
    "model.compile(optimizer = optimizer , loss = \"categorical_crossentropy\", metrics=[\"accuracy\"])"
   ]
  },
  {
   "cell_type": "markdown",
   "metadata": {
    "colab": {},
    "colab_type": "code",
    "id": "HHyNIohVyWUP"
   },
   "source": [
    "#### Fitting the model on the training and validation data"
   ]
  },
  {
   "cell_type": "code",
   "execution_count": 13,
   "metadata": {
    "colab": {
     "base_uri": "https://localhost:8080/",
     "height": 1088
    },
    "colab_type": "code",
    "id": "NY9ZJz1hxnxx",
    "outputId": "f5cfdb4f-b13d-4ea4-e5b6-727e4e63e9a7"
   },
   "outputs": [
    {
     "name": "stdout",
     "output_type": "stream",
     "text": [
      "Train on 48000 samples, validate on 12000 samples\n",
      "Epoch 1/30\n",
      "48000/48000 [==============================] - 320s 7ms/step - loss: 0.1102 - acc: 0.9591 - val_loss: 0.2046 - val_acc: 0.9311\n",
      "Epoch 2/30\n",
      "48000/48000 [==============================] - 317s 7ms/step - loss: 0.1061 - acc: 0.9607 - val_loss: 0.2201 - val_acc: 0.9287\n",
      "Epoch 3/30\n",
      "48000/48000 [==============================] - 318s 7ms/step - loss: 0.1024 - acc: 0.9617 - val_loss: 0.2074 - val_acc: 0.9313\n",
      "Epoch 4/30\n",
      "48000/48000 [==============================] - 332s 7ms/step - loss: 0.0944 - acc: 0.9647 - val_loss: 0.2105 - val_acc: 0.9346\n",
      "Epoch 5/30\n",
      "48000/48000 [==============================] - 323s 7ms/step - loss: 0.0908 - acc: 0.9659 - val_loss: 0.2093 - val_acc: 0.9353\n",
      "Epoch 6/30\n",
      "48000/48000 [==============================] - 322s 7ms/step - loss: 0.0862 - acc: 0.9678 - val_loss: 0.2304 - val_acc: 0.9332\n",
      "Epoch 7/30\n",
      "48000/48000 [==============================] - 320s 7ms/step - loss: 0.0832 - acc: 0.9684 - val_loss: 0.2310 - val_acc: 0.9331\n",
      "Epoch 8/30\n",
      "48000/48000 [==============================] - 316s 7ms/step - loss: 0.0798 - acc: 0.9702 - val_loss: 0.2173 - val_acc: 0.9362\n",
      "Epoch 9/30\n",
      "48000/48000 [==============================] - 314s 7ms/step - loss: 0.0740 - acc: 0.9724 - val_loss: 0.2288 - val_acc: 0.9323\n",
      "Epoch 10/30\n",
      "48000/48000 [==============================] - 319s 7ms/step - loss: 0.0709 - acc: 0.9733 - val_loss: 0.2628 - val_acc: 0.9258\n",
      "Epoch 11/30\n",
      "48000/48000 [==============================] - 319s 7ms/step - loss: 0.0698 - acc: 0.9744 - val_loss: 0.2326 - val_acc: 0.9336\n",
      "Epoch 12/30\n",
      "48000/48000 [==============================] - 314s 7ms/step - loss: 0.0671 - acc: 0.9752 - val_loss: 0.2374 - val_acc: 0.9342\n",
      "Epoch 13/30\n",
      "48000/48000 [==============================] - 327s 7ms/step - loss: 0.0657 - acc: 0.9757 - val_loss: 0.2372 - val_acc: 0.9327\n",
      "Epoch 14/30\n",
      "48000/48000 [==============================] - 317s 7ms/step - loss: 0.0670 - acc: 0.9751 - val_loss: 0.2354 - val_acc: 0.9332\n",
      "Epoch 15/30\n",
      "48000/48000 [==============================] - 313s 7ms/step - loss: 0.0607 - acc: 0.9773 - val_loss: 0.2359 - val_acc: 0.9352\n",
      "Epoch 16/30\n",
      "48000/48000 [==============================] - 312s 6ms/step - loss: 0.0601 - acc: 0.9774 - val_loss: 0.2502 - val_acc: 0.9280\n",
      "Epoch 17/30\n",
      "48000/48000 [==============================] - 312s 7ms/step - loss: 0.0587 - acc: 0.9776 - val_loss: 0.2641 - val_acc: 0.9330\n",
      "Epoch 18/30\n",
      "48000/48000 [==============================] - 314s 7ms/step - loss: 0.0576 - acc: 0.9785 - val_loss: 0.2649 - val_acc: 0.9318\n",
      "Epoch 19/30\n",
      "48000/48000 [==============================] - 314s 7ms/step - loss: 0.0533 - acc: 0.9800 - val_loss: 0.2571 - val_acc: 0.9309\n",
      "Epoch 20/30\n",
      "48000/48000 [==============================] - 318s 7ms/step - loss: 0.0500 - acc: 0.9819 - val_loss: 0.2659 - val_acc: 0.9347\n",
      "Epoch 21/30\n",
      "48000/48000 [==============================] - 319s 7ms/step - loss: 0.0524 - acc: 0.9807 - val_loss: 0.2784 - val_acc: 0.9303\n",
      "Epoch 22/30\n",
      "48000/48000 [==============================] - 310s 6ms/step - loss: 0.0475 - acc: 0.9823 - val_loss: 0.2561 - val_acc: 0.9362\n",
      "Epoch 23/30\n",
      "48000/48000 [==============================] - 310s 6ms/step - loss: 0.0488 - acc: 0.9810 - val_loss: 0.2794 - val_acc: 0.9339\n",
      "Epoch 24/30\n",
      "48000/48000 [==============================] - 308s 6ms/step - loss: 0.0489 - acc: 0.9818 - val_loss: 0.2601 - val_acc: 0.9353\n",
      "Epoch 25/30\n",
      "48000/48000 [==============================] - 334s 7ms/step - loss: 0.0444 - acc: 0.9833 - val_loss: 0.2783 - val_acc: 0.9342\n",
      "Epoch 26/30\n",
      "48000/48000 [==============================] - 352s 7ms/step - loss: 0.0449 - acc: 0.9831 - val_loss: 0.2651 - val_acc: 0.9323\n",
      "Epoch 27/30\n",
      "48000/48000 [==============================] - 354s 7ms/step - loss: 0.0456 - acc: 0.9832 - val_loss: 0.2626 - val_acc: 0.9348\n",
      "Epoch 28/30\n",
      "48000/48000 [==============================] - 347s 7ms/step - loss: 0.0458 - acc: 0.9834 - val_loss: 0.2717 - val_acc: 0.9354\n",
      "Epoch 29/30\n",
      "48000/48000 [==============================] - 333s 7ms/step - loss: 0.0443 - acc: 0.9836 - val_loss: 0.2761 - val_acc: 0.9346\n",
      "Epoch 30/30\n",
      "48000/48000 [==============================] - 325s 7ms/step - loss: 0.0414 - acc: 0.9853 - val_loss: 0.2604 - val_acc: 0.9358\n",
      "Test loss: 0.26035171895256887\n",
      "Test accuracy: 0.9358333333333333\n"
     ]
    }
   ],
   "source": [
    "model.fit(x_train, y_train,\n",
    "          batch_size=batch_size,\n",
    "          epochs=epochs,\n",
    "          verbose=1,\n",
    "          validation_data=(x_test, y_test))\n",
    "score = model.evaluate(x_test, y_test, verbose=0)\n",
    "print('Test loss:', score[0])\n",
    "print('Test accuracy:', score[1])"
   ]
  },
  {
   "cell_type": "markdown",
   "metadata": {},
   "source": [
    "### Saving the model\n",
    "\n",
    "The model is saved as model.json\n",
    "\n",
    "The weights are saved in model.h5"
   ]
  },
  {
   "cell_type": "code",
   "execution_count": 0,
   "metadata": {
    "colab": {},
    "colab_type": "code",
    "id": "thOd7d0vvCZL"
   },
   "outputs": [],
   "source": [
    "from keras.models import model_from_json\n",
    "model_json = model.to_json()"
   ]
  },
  {
   "cell_type": "code",
   "execution_count": 15,
   "metadata": {
    "colab": {
     "base_uri": "https://localhost:8080/",
     "height": 34
    },
    "colab_type": "code",
    "id": "S4bJUoY66e7N",
    "outputId": "c5bd1984-9836-42ba-ab71-e232e65b7b21"
   },
   "outputs": [
    {
     "name": "stdout",
     "output_type": "stream",
     "text": [
      "testX.pickle  trainX.pickle  trainY.pickle\n"
     ]
    }
   ],
   "source": [
    "!ls"
   ]
  },
  {
   "cell_type": "code",
   "execution_count": 0,
   "metadata": {
    "colab": {},
    "colab_type": "code",
    "id": "Bdu9ycyj6naK"
   },
   "outputs": [],
   "source": [
    "with open(\"model.json\", \"w\") as json_file:\n",
    "    json_file.write(model_json)"
   ]
  },
  {
   "cell_type": "code",
   "execution_count": 0,
   "metadata": {
    "colab": {},
    "colab_type": "code",
    "id": "04bPh86N61RI"
   },
   "outputs": [],
   "source": [
    "model.save_weights(\"model.h5\")"
   ]
  },
  {
   "cell_type": "markdown",
   "metadata": {},
   "source": [
    "### Making predictions on training data\n",
    "\n",
    "#### The output dataframe, 'predictions' is saved in text format in `textPredictions.txt` and in pickle format in `testy.pickle`"
   ]
  },
  {
   "cell_type": "code",
   "execution_count": 0,
   "metadata": {
    "colab": {},
    "colab_type": "code",
    "id": "CkmZZsax642M"
   },
   "outputs": [],
   "source": [
    "testX = pd.read_pickle('testX.pickle')\n",
    "testX = testX.reshape(testX.shape[0], 28, 28, 1)\n"
   ]
  },
  {
   "cell_type": "code",
   "execution_count": 0,
   "metadata": {
    "colab": {},
    "colab_type": "code",
    "id": "AAEugGB_7CGZ"
   },
   "outputs": [],
   "source": [
    "predictions = model.predict(testX)"
   ]
  },
  {
   "cell_type": "code",
   "execution_count": 22,
   "metadata": {
    "colab": {
     "base_uri": "https://localhost:8080/",
     "height": 34
    },
    "colab_type": "code",
    "id": "LuYN0DGf7a6H",
    "outputId": "5a423f4e-d6a5-4dc7-a674-0db748c5d218"
   },
   "outputs": [
    {
     "data": {
      "text/plain": [
       "(10000, 10)"
      ]
     },
     "execution_count": 22,
     "metadata": {
      "tags": []
     },
     "output_type": "execute_result"
    }
   ],
   "source": [
    "predictions.shape"
   ]
  },
  {
   "cell_type": "code",
   "execution_count": 0,
   "metadata": {
    "colab": {},
    "colab_type": "code",
    "id": "IpMPZ5KP7iKn"
   },
   "outputs": [],
   "source": [
    "testResults = np.argmax(predictions, axis = 1)\n",
    "np.savetxt('testPredictions.txt', testResults)"
   ]
  },
  {
   "cell_type": "code",
   "execution_count": 0,
   "metadata": {
    "colab": {},
    "colab_type": "code",
    "id": "55yQCVnI8xcx"
   },
   "outputs": [],
   "source": [
    "import pickle\n",
    "\n",
    "with open('testy.pickle', 'wb') as handle:\n",
    "    pickle.dump(testResults, handle, protocol=pickle.HIGHEST_PROTOCOL)"
   ]
  },
  {
   "cell_type": "code",
   "execution_count": 34,
   "metadata": {
    "colab": {
     "base_uri": "https://localhost:8080/",
     "height": 34
    },
    "colab_type": "code",
    "id": "ej2PuD1b9g75",
    "outputId": "ddc7cc4b-09a1-468c-90e0-e52e83c52b27"
   },
   "outputs": [
    {
     "name": "stdout",
     "output_type": "stream",
     "text": [
      "model.h5  model.json  testX.pickle  testy.pickle  trainX.pickle  trainY.pickle\n"
     ]
    }
   ],
   "source": [
    "!ls"
   ]
  },
  {
   "cell_type": "code",
   "execution_count": 0,
   "metadata": {
    "colab": {},
    "colab_type": "code",
    "id": "nepsXixo9ndS"
   },
   "outputs": [],
   "source": []
  }
 ],
 "metadata": {
  "colab": {
   "collapsed_sections": [],
   "name": "SS.ipynb",
   "provenance": [],
   "version": "0.3.2"
  },
  "kernelspec": {
   "display_name": "Python 3",
   "language": "python",
   "name": "python3"
  },
  "language_info": {
   "codemirror_mode": {
    "name": "ipython",
    "version": 3
   },
   "file_extension": ".py",
   "mimetype": "text/x-python",
   "name": "python",
   "nbconvert_exporter": "python",
   "pygments_lexer": "ipython3",
   "version": "3.7.3"
  }
 },
 "nbformat": 4,
 "nbformat_minor": 1
}
